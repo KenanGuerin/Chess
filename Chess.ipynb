{
 "cells": [
  {
   "cell_type": "code",
   "execution_count": 2,
   "id": "089bd376-4051-41a0-b2a3-35eb627a8e37",
   "metadata": {},
   "outputs": [
    {
     "name": "stdout",
     "output_type": "stream",
     "text": [
      "['RW', 'pW', None, None, None, None, 'pB', 'RB']\n",
      "['NW', 'pW', None, None, None, None, 'pB', 'NB']\n",
      "['BW', 'pW', None, None, None, None, 'pB', 'BB']\n",
      "['QW', 'pW', None, None, None, None, 'pB', 'QB']\n",
      "['KW', 'pW', None, None, None, None, 'pB', 'KB']\n",
      "['BW', 'pW', None, None, None, None, 'pB', 'BB']\n",
      "['NW', 'pW', None, None, None, None, 'pB', 'NB']\n",
      "['RW', 'pW', None, None, None, None, 'pB', 'RB']\n"
     ]
    },
    {
     "name": "stdin",
     "output_type": "stream",
     "text": [
      " Entrez la colonne de la piece que vous voulez deplacez  E\n",
      " Entrez la ligne de la piece que vous voulez deplacez  1\n",
      " Entrez la colonne d'arrivée  E\n",
      " Entrez la ligne  d'arrivée  3\n"
     ]
    },
    {
     "name": "stdout",
     "output_type": "stream",
     "text": [
      "['RW', 'pW', None, None, None, None, 'pB', 'RB']\n",
      "['NW', 'pW', None, None, None, None, 'pB', 'NB']\n",
      "['BW', 'pW', None, None, None, None, 'pB', 'BB']\n",
      "['QW', 'pW', None, None, None, None, 'pB', 'QB']\n",
      "[None, 'pW', 'KW', None, None, None, 'pB', 'KB']\n",
      "['BW', 'pW', None, None, None, None, 'pB', 'BB']\n",
      "['NW', 'pW', None, None, None, None, 'pB', 'NB']\n",
      "['RW', 'pW', None, None, None, None, 'pB', 'RB']\n",
      "\n"
     ]
    },
    {
     "name": "stdin",
     "output_type": "stream",
     "text": [
      " Entrez la colonne de la piece que vous voulez deplacez  E\n",
      " Entrez la ligne de la piece que vous voulez deplacez  3\n",
      " Entrez la colonne d'arrivée  E\n",
      " Entrez la ligne  d'arrivée  8\n"
     ]
    },
    {
     "name": "stdout",
     "output_type": "stream",
     "text": [
      "['RW', 'pW', None, None, None, None, 'pB', 'RB']\n",
      "['NW', 'pW', None, None, None, None, 'pB', 'NB']\n",
      "['BW', 'pW', None, None, None, None, 'pB', 'BB']\n",
      "['QW', 'pW', None, None, None, None, 'pB', 'QB']\n",
      "[None, 'pW', None, None, None, None, 'pB', 'KW']\n",
      "['BW', 'pW', None, None, None, None, 'pB', 'BB']\n",
      "['NW', 'pW', None, None, None, None, 'pB', 'NB']\n",
      "['RW', 'pW', None, None, None, None, 'pB', 'RB']\n",
      "\n"
     ]
    }
   ],
   "source": [
    "def reset(): # normalment remplacable par emojii unicode\n",
    "\tA=['RW','pW',None,None,None,None,'pB','RB']\n",
    "\tB=['NW','pW',None,None,None,None,'pB','NB']\n",
    "\tC=['BW','pW',None,None,None,None,'pB','BB']\n",
    "\tD=['QW','pW',None,None,None,None,'pB','QB']\n",
    "\tE=['KW','pW',None,None,None,None,'pB','KB']\n",
    "\tF=['BW','pW',None,None,None,None,'pB','BB']\n",
    "\tG=['NW','pW',None,None,None,None,'pB','NB']\n",
    "\tH=['RW','pW',None,None,None,None,'pB','RB']\n",
    "\tBoard=[A,B,C,D,E,F,G,H]\n",
    "\treturn Board\n",
    "\n",
    "def show(Board):\n",
    "\tprint(Board[0])\n",
    "\tprint(Board[1])\n",
    "\tprint(Board[2])\n",
    "\tprint(Board[3])\n",
    "\tprint(Board[4])\n",
    "\tprint(Board[5])\n",
    "\tprint(Board[6])\n",
    "\tprint(Board[7])\n",
    "\n",
    "def winW(Board):\n",
    "\tfor i in Board:\n",
    "\t\tfor j in i:\n",
    "\t\t\tif j== 'KB':\n",
    "\t\t\t\treturn False\n",
    "\treturn (\"Black as won\")\n",
    "\t\n",
    "def winB(Board):\n",
    "\tfor i in Board:\n",
    "\t\tfor j in i:\n",
    "\t\t\tif j== 'KW':\n",
    "\t\t\t\treturn False\n",
    "\treturn (\" White as won\")\n",
    "\n",
    "def move(src_col,src_row,dst_col,dst_row):\n",
    "\tglobal Board\n",
    "\tdst_col[dst_row]=src_col[src_row]\n",
    "\tsrc_col[src_row]=None\n",
    "\t\n",
    "def letter(Board):\n",
    "\tglobal A,B,C,D,E,F,G,H\n",
    "\tA=Board[0]\n",
    "\tB=Board[1]\n",
    "\tC=Board[2]\n",
    "\tD=Board[3]\n",
    "\tE=Board[4]\n",
    "\tF=Board[5]\n",
    "\tG=Board[6]\n",
    "\tH=Board[7]\n",
    "\n",
    "def tab(A,B,C,D,E,F,G,H):\n",
    "\tglobal Board\n",
    "\tBoard[0]=A\n",
    "\tBoard[1]=B\n",
    "\tBoard[2]=C\n",
    "\tBoard[3]=D\n",
    "\tBoard[4]=E\n",
    "\tBoard[5]=F\n",
    "\tBoard[6]=G\n",
    "\tBoard[7]=H\n",
    "\t\n",
    "\n",
    "\n",
    "\n",
    "\n",
    "\n",
    "Board=reset()\n",
    "show(Board)\n",
    "while winB(Board)==False and winW(Board)==False:\n",
    "\tletter(Board)\n",
    "\tsrc_col=str(input(\" Entrez la colonne de la piece que vous voulez deplacez \"))\n",
    "\tsrc_row=int(input(\" Entrez la ligne de la piece que vous voulez deplacez \"))-1\n",
    "\tdst_col=(input(\" Entrez la colonne d'arrivée \"))\n",
    "\tdst_row=int(input(\" Entrez la ligne  d'arrivée \"))-1\n",
    "\tname={'A':A,'B':B,'C':C,'D':D,'E':E,'F':F,'G':G,'H':H}\n",
    "\tmove(name[src_col],src_row,\tname[dst_col],dst_row)\n",
    "\ttab(A,B,C,D,E,F,G,H)\n",
    "\tshow(Board)\n",
    "\tprint(\"\")"
   ]
  },
  {
   "cell_type": "code",
   "execution_count": null,
   "id": "9a3f410a-a924-465d-b195-7ff3940a3d30",
   "metadata": {},
   "outputs": [],
   "source": []
  }
 ],
 "metadata": {
  "kernelspec": {
   "display_name": "Python 3 (ipykernel)",
   "language": "python",
   "name": "python3"
  },
  "language_info": {
   "codemirror_mode": {
    "name": "ipython",
    "version": 3
   },
   "file_extension": ".py",
   "mimetype": "text/x-python",
   "name": "python",
   "nbconvert_exporter": "python",
   "pygments_lexer": "ipython3",
   "version": "3.12.0"
  }
 },
 "nbformat": 4,
 "nbformat_minor": 5
}
